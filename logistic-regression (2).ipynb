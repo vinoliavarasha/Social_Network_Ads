{
 "cells": [
  {
   "cell_type": "code",
   "execution_count": 1,
   "id": "39e55e1d",
   "metadata": {
    "_cell_guid": "b1076dfc-b9ad-4769-8c92-a6c4dae69d19",
    "_uuid": "8f2839f25d086af736a60e9eeb907d3b93b6e0e5",
    "execution": {
     "iopub.execute_input": "2022-02-20T16:15:01.406038Z",
     "iopub.status.busy": "2022-02-20T16:15:01.404862Z",
     "iopub.status.idle": "2022-02-20T16:15:01.421319Z",
     "shell.execute_reply": "2022-02-20T16:15:01.422203Z",
     "shell.execute_reply.started": "2022-02-20T15:25:49.451943Z"
    },
    "papermill": {
     "duration": 0.046521,
     "end_time": "2022-02-20T16:15:01.422587",
     "exception": false,
     "start_time": "2022-02-20T16:15:01.376066",
     "status": "completed"
    },
    "tags": []
   },
   "outputs": [],
   "source": [
    "# This Python 3 environment comes with many helpful analytics libraries installed\n",
    "# It is defined by the kaggle/python Docker image: https://github.com/kaggle/docker-python\n",
    "# For example, here's several helpful packages to load\n",
    "\n",
    "import numpy as np # linear algebra\n",
    "import pandas as pd # data processing, CSV file I/O (e.g. pd.read_csv)\n",
    "\n",
    "# Input data files are available in the read-only \"../input/\" directory\n",
    "# For example, running this (by clicking run or pressing Shift+Enter) will list all files under the input directory\n",
    "\n",
    "import os\n",
    "for dirname, _, filenames in os.walk('/kaggle/input'):\n",
    "    for filename in filenames:\n",
    "        print(os.path.join(dirname, filename))\n",
    "\n",
    "# You can write up to 20GB to the current directory (/kaggle/working/) that gets preserved as output when you create a version using \"Save & Run All\" \n",
    "# You can also write temporary files to /kaggle/temp/, but they won't be saved outside of the current session"
   ]
  },
  {
   "cell_type": "markdown",
   "id": "660dd11e",
   "metadata": {
    "papermill": {
     "duration": 0.02159,
     "end_time": "2022-02-20T16:15:01.468051",
     "exception": false,
     "start_time": "2022-02-20T16:15:01.446461",
     "status": "completed"
    },
    "tags": []
   },
   "source": [
    "## Data Info"
   ]
  },
  {
   "cell_type": "code",
   "execution_count": 18,
   "id": "11619689",
   "metadata": {
    "execution": {
     "iopub.execute_input": "2022-02-20T16:15:01.516856Z",
     "iopub.status.busy": "2022-02-20T16:15:01.515868Z",
     "iopub.status.idle": "2022-02-20T16:15:01.549927Z",
     "shell.execute_reply": "2022-02-20T16:15:01.550457Z",
     "shell.execute_reply.started": "2022-02-20T16:05:38.707490Z"
    },
    "papermill": {
     "duration": 0.060509,
     "end_time": "2022-02-20T16:15:01.550636",
     "exception": false,
     "start_time": "2022-02-20T16:15:01.490127",
     "status": "completed"
    },
    "tags": []
   },
   "outputs": [
    {
     "data": {
      "text/html": [
       "<div>\n",
       "<style scoped>\n",
       "    .dataframe tbody tr th:only-of-type {\n",
       "        vertical-align: middle;\n",
       "    }\n",
       "\n",
       "    .dataframe tbody tr th {\n",
       "        vertical-align: top;\n",
       "    }\n",
       "\n",
       "    .dataframe thead th {\n",
       "        text-align: right;\n",
       "    }\n",
       "</style>\n",
       "<table border=\"1\" class=\"dataframe\">\n",
       "  <thead>\n",
       "    <tr style=\"text-align: right;\">\n",
       "      <th></th>\n",
       "      <th>User ID</th>\n",
       "      <th>Gender</th>\n",
       "      <th>Age</th>\n",
       "      <th>EstimatedSalary</th>\n",
       "      <th>Purchased</th>\n",
       "    </tr>\n",
       "  </thead>\n",
       "  <tbody>\n",
       "    <tr>\n",
       "      <th>0</th>\n",
       "      <td>15624510</td>\n",
       "      <td>Male</td>\n",
       "      <td>19</td>\n",
       "      <td>19000</td>\n",
       "      <td>0</td>\n",
       "    </tr>\n",
       "    <tr>\n",
       "      <th>1</th>\n",
       "      <td>15810944</td>\n",
       "      <td>Male</td>\n",
       "      <td>35</td>\n",
       "      <td>20000</td>\n",
       "      <td>0</td>\n",
       "    </tr>\n",
       "    <tr>\n",
       "      <th>2</th>\n",
       "      <td>15668575</td>\n",
       "      <td>Female</td>\n",
       "      <td>26</td>\n",
       "      <td>43000</td>\n",
       "      <td>0</td>\n",
       "    </tr>\n",
       "    <tr>\n",
       "      <th>3</th>\n",
       "      <td>15603246</td>\n",
       "      <td>Female</td>\n",
       "      <td>27</td>\n",
       "      <td>57000</td>\n",
       "      <td>0</td>\n",
       "    </tr>\n",
       "    <tr>\n",
       "      <th>4</th>\n",
       "      <td>15804002</td>\n",
       "      <td>Male</td>\n",
       "      <td>19</td>\n",
       "      <td>76000</td>\n",
       "      <td>0</td>\n",
       "    </tr>\n",
       "    <tr>\n",
       "      <th>...</th>\n",
       "      <td>...</td>\n",
       "      <td>...</td>\n",
       "      <td>...</td>\n",
       "      <td>...</td>\n",
       "      <td>...</td>\n",
       "    </tr>\n",
       "    <tr>\n",
       "      <th>95</th>\n",
       "      <td>15709441</td>\n",
       "      <td>Female</td>\n",
       "      <td>35</td>\n",
       "      <td>44000</td>\n",
       "      <td>0</td>\n",
       "    </tr>\n",
       "    <tr>\n",
       "      <th>96</th>\n",
       "      <td>15710257</td>\n",
       "      <td>Female</td>\n",
       "      <td>35</td>\n",
       "      <td>25000</td>\n",
       "      <td>0</td>\n",
       "    </tr>\n",
       "    <tr>\n",
       "      <th>97</th>\n",
       "      <td>15582492</td>\n",
       "      <td>Male</td>\n",
       "      <td>28</td>\n",
       "      <td>123000</td>\n",
       "      <td>1</td>\n",
       "    </tr>\n",
       "    <tr>\n",
       "      <th>98</th>\n",
       "      <td>15575694</td>\n",
       "      <td>Male</td>\n",
       "      <td>35</td>\n",
       "      <td>73000</td>\n",
       "      <td>0</td>\n",
       "    </tr>\n",
       "    <tr>\n",
       "      <th>99</th>\n",
       "      <td>15756820</td>\n",
       "      <td>Female</td>\n",
       "      <td>28</td>\n",
       "      <td>37000</td>\n",
       "      <td>0</td>\n",
       "    </tr>\n",
       "  </tbody>\n",
       "</table>\n",
       "<p>100 rows × 5 columns</p>\n",
       "</div>"
      ],
      "text/plain": [
       "     User ID  Gender  Age  EstimatedSalary  Purchased\n",
       "0   15624510    Male   19            19000          0\n",
       "1   15810944    Male   35            20000          0\n",
       "2   15668575  Female   26            43000          0\n",
       "3   15603246  Female   27            57000          0\n",
       "4   15804002    Male   19            76000          0\n",
       "..       ...     ...  ...              ...        ...\n",
       "95  15709441  Female   35            44000          0\n",
       "96  15710257  Female   35            25000          0\n",
       "97  15582492    Male   28           123000          1\n",
       "98  15575694    Male   35            73000          0\n",
       "99  15756820  Female   28            37000          0\n",
       "\n",
       "[100 rows x 5 columns]"
      ]
     },
     "execution_count": 18,
     "metadata": {},
     "output_type": "execute_result"
    }
   ],
   "source": [
    "# Önce, data hakkında bilgi sahibi olacağız ve görselleştirme yapacağız.\n",
    "df = pd.read_csv('D:/project_batch25/logidtic_reg_dataset/Social_Network_Ads.csv')\n",
    "df.head(100)"
   ]
  },
  {
   "cell_type": "code",
   "execution_count": 20,
   "id": "43d75837",
   "metadata": {},
   "outputs": [
    {
     "data": {
      "text/plain": [
       "(400, 5)"
      ]
     },
     "execution_count": 20,
     "metadata": {},
     "output_type": "execute_result"
    }
   ],
   "source": [
    "df.shape"
   ]
  },
  {
   "cell_type": "code",
   "execution_count": 3,
   "id": "4af7dbb0",
   "metadata": {
    "execution": {
     "iopub.execute_input": "2022-02-20T16:15:01.600314Z",
     "iopub.status.busy": "2022-02-20T16:15:01.599376Z",
     "iopub.status.idle": "2022-02-20T16:15:01.623429Z",
     "shell.execute_reply": "2022-02-20T16:15:01.623983Z",
     "shell.execute_reply.started": "2022-02-20T16:05:40.834362Z"
    },
    "papermill": {
     "duration": 0.050392,
     "end_time": "2022-02-20T16:15:01.624187",
     "exception": false,
     "start_time": "2022-02-20T16:15:01.573795",
     "status": "completed"
    },
    "tags": []
   },
   "outputs": [
    {
     "name": "stdout",
     "output_type": "stream",
     "text": [
      "<class 'pandas.core.frame.DataFrame'>\n",
      "RangeIndex: 400 entries, 0 to 399\n",
      "Data columns (total 5 columns):\n",
      " #   Column           Non-Null Count  Dtype \n",
      "---  ------           --------------  ----- \n",
      " 0   User ID          400 non-null    int64 \n",
      " 1   Gender           400 non-null    object\n",
      " 2   Age              400 non-null    int64 \n",
      " 3   EstimatedSalary  400 non-null    int64 \n",
      " 4   Purchased        400 non-null    int64 \n",
      "dtypes: int64(4), object(1)\n",
      "memory usage: 15.8+ KB\n"
     ]
    }
   ],
   "source": [
    "df.info()"
   ]
  },
  {
   "cell_type": "code",
   "execution_count": 4,
   "id": "fad0c2f7",
   "metadata": {
    "execution": {
     "iopub.execute_input": "2022-02-20T16:15:01.686812Z",
     "iopub.status.busy": "2022-02-20T16:15:01.686160Z",
     "iopub.status.idle": "2022-02-20T16:15:01.712370Z",
     "shell.execute_reply": "2022-02-20T16:15:01.712931Z",
     "shell.execute_reply.started": "2022-02-20T16:05:42.814029Z"
    },
    "papermill": {
     "duration": 0.063059,
     "end_time": "2022-02-20T16:15:01.713117",
     "exception": false,
     "start_time": "2022-02-20T16:15:01.650058",
     "status": "completed"
    },
    "tags": []
   },
   "outputs": [
    {
     "data": {
      "text/html": [
       "<div>\n",
       "<style scoped>\n",
       "    .dataframe tbody tr th:only-of-type {\n",
       "        vertical-align: middle;\n",
       "    }\n",
       "\n",
       "    .dataframe tbody tr th {\n",
       "        vertical-align: top;\n",
       "    }\n",
       "\n",
       "    .dataframe thead th {\n",
       "        text-align: right;\n",
       "    }\n",
       "</style>\n",
       "<table border=\"1\" class=\"dataframe\">\n",
       "  <thead>\n",
       "    <tr style=\"text-align: right;\">\n",
       "      <th></th>\n",
       "      <th>count</th>\n",
       "      <th>mean</th>\n",
       "      <th>std</th>\n",
       "      <th>min</th>\n",
       "      <th>25%</th>\n",
       "      <th>50%</th>\n",
       "      <th>75%</th>\n",
       "      <th>max</th>\n",
       "    </tr>\n",
       "  </thead>\n",
       "  <tbody>\n",
       "    <tr>\n",
       "      <th>User ID</th>\n",
       "      <td>400.0</td>\n",
       "      <td>1.569154e+07</td>\n",
       "      <td>71658.321581</td>\n",
       "      <td>15566689.0</td>\n",
       "      <td>15626763.75</td>\n",
       "      <td>15694341.5</td>\n",
       "      <td>15750363.0</td>\n",
       "      <td>15815236.0</td>\n",
       "    </tr>\n",
       "    <tr>\n",
       "      <th>Age</th>\n",
       "      <td>400.0</td>\n",
       "      <td>3.765500e+01</td>\n",
       "      <td>10.482877</td>\n",
       "      <td>18.0</td>\n",
       "      <td>29.75</td>\n",
       "      <td>37.0</td>\n",
       "      <td>46.0</td>\n",
       "      <td>60.0</td>\n",
       "    </tr>\n",
       "    <tr>\n",
       "      <th>EstimatedSalary</th>\n",
       "      <td>400.0</td>\n",
       "      <td>6.974250e+04</td>\n",
       "      <td>34096.960282</td>\n",
       "      <td>15000.0</td>\n",
       "      <td>43000.00</td>\n",
       "      <td>70000.0</td>\n",
       "      <td>88000.0</td>\n",
       "      <td>150000.0</td>\n",
       "    </tr>\n",
       "    <tr>\n",
       "      <th>Purchased</th>\n",
       "      <td>400.0</td>\n",
       "      <td>3.575000e-01</td>\n",
       "      <td>0.479864</td>\n",
       "      <td>0.0</td>\n",
       "      <td>0.00</td>\n",
       "      <td>0.0</td>\n",
       "      <td>1.0</td>\n",
       "      <td>1.0</td>\n",
       "    </tr>\n",
       "  </tbody>\n",
       "</table>\n",
       "</div>"
      ],
      "text/plain": [
       "                 count          mean           std         min          25%  \\\n",
       "User ID          400.0  1.569154e+07  71658.321581  15566689.0  15626763.75   \n",
       "Age              400.0  3.765500e+01     10.482877        18.0        29.75   \n",
       "EstimatedSalary  400.0  6.974250e+04  34096.960282     15000.0     43000.00   \n",
       "Purchased        400.0  3.575000e-01      0.479864         0.0         0.00   \n",
       "\n",
       "                        50%         75%         max  \n",
       "User ID          15694341.5  15750363.0  15815236.0  \n",
       "Age                    37.0        46.0        60.0  \n",
       "EstimatedSalary     70000.0     88000.0    150000.0  \n",
       "Purchased               0.0         1.0         1.0  "
      ]
     },
     "execution_count": 4,
     "metadata": {},
     "output_type": "execute_result"
    }
   ],
   "source": [
    "df.describe().T"
   ]
  },
  {
   "cell_type": "code",
   "execution_count": 5,
   "id": "d7dc000c",
   "metadata": {
    "execution": {
     "iopub.execute_input": "2022-02-20T16:15:01.765265Z",
     "iopub.status.busy": "2022-02-20T16:15:01.764497Z",
     "iopub.status.idle": "2022-02-20T16:15:01.772036Z",
     "shell.execute_reply": "2022-02-20T16:15:01.772626Z",
     "shell.execute_reply.started": "2022-02-20T16:05:46.486167Z"
    },
    "papermill": {
     "duration": 0.035625,
     "end_time": "2022-02-20T16:15:01.772812",
     "exception": false,
     "start_time": "2022-02-20T16:15:01.737187",
     "status": "completed"
    },
    "tags": []
   },
   "outputs": [
    {
     "data": {
      "text/plain": [
       "User ID            0\n",
       "Gender             0\n",
       "Age                0\n",
       "EstimatedSalary    0\n",
       "Purchased          0\n",
       "dtype: int64"
      ]
     },
     "execution_count": 5,
     "metadata": {},
     "output_type": "execute_result"
    }
   ],
   "source": [
    "df.isna().sum()"
   ]
  },
  {
   "cell_type": "code",
   "execution_count": 6,
   "id": "a29986b6",
   "metadata": {
    "execution": {
     "iopub.execute_input": "2022-02-20T16:15:01.825029Z",
     "iopub.status.busy": "2022-02-20T16:15:01.824343Z",
     "iopub.status.idle": "2022-02-20T16:15:03.217283Z",
     "shell.execute_reply": "2022-02-20T16:15:03.217949Z",
     "shell.execute_reply.started": "2022-02-20T16:05:47.958458Z"
    },
    "papermill": {
     "duration": 1.421143,
     "end_time": "2022-02-20T16:15:03.218166",
     "exception": false,
     "start_time": "2022-02-20T16:15:01.797023",
     "status": "completed"
    },
    "tags": []
   },
   "outputs": [
    {
     "data": {
      "text/plain": [
       "<AxesSubplot:xlabel='Gender', ylabel='count'>"
      ]
     },
     "execution_count": 6,
     "metadata": {},
     "output_type": "execute_result"
    },
    {
     "data": {
      "image/png": "[encoded data removed]",
      "text/plain": [
       "<Figure size 432x288 with 1 Axes>"
      ]
     },
     "metadata": {
      "needs_background": "light"
     },
     "output_type": "display_data"
    }
   ],
   "source": [
    "import seaborn as sns\n",
    "import matplotlib.pyplot as plt\n",
    "\n",
    "sns.countplot(x=df[\"Gender\"])"
   ]
  },
  {
   "cell_type": "code",
   "execution_count": 7,
   "id": "0db2063f",
   "metadata": {
    "execution": {
     "iopub.execute_input": "2022-02-20T16:15:03.279207Z",
     "iopub.status.busy": "2022-02-20T16:15:03.278435Z",
     "iopub.status.idle": "2022-02-20T16:15:04.796319Z",
     "shell.execute_reply": "2022-02-20T16:15:04.796863Z",
     "shell.execute_reply.started": "2022-02-20T16:06:48.095285Z"
    },
    "papermill": {
     "duration": 1.550188,
     "end_time": "2022-02-20T16:15:04.797063",
     "exception": false,
     "start_time": "2022-02-20T16:15:03.246875",
     "status": "completed"
    },
    "tags": []
   },
   "outputs": [
    {
     "data": {
      "image/png": "[encoded data removed]",
      "text/plain": [
       "<Figure size 936x648 with 8 Axes>"
      ]
     },
     "metadata": {
      "needs_background": "light"
     },
     "output_type": "display_data"
    }
   ],
   "source": [
    "df_gozlem = df.select_dtypes(include=[\"float64\",\"int64\"])\n",
    "\n",
    "f, axes = plt.subplots(len(df_gozlem.columns), 2, constrained_layout = True, figsize=([13,9]))\n",
    "\n",
    "for i in range(len(df_gozlem.columns)):\n",
    "    \n",
    "    sns.boxplot(x=df_gozlem[df_gozlem.columns[i]], ax=axes[i,0], color=\"r\")\n",
    "    axes[i,0].set_title('Boxplot of '+df_gozlem.columns[i])\n",
    "    sns.histplot(x=df_gozlem[df_gozlem.columns[i]], ax=axes[i,1], color=\"b\")\n",
    "    axes[i,1].set_title('Distribution of '+df_gozlem.columns[i])"
   ]
  },
  {
   "cell_type": "code",
   "execution_count": 8,
   "id": "5d6dfb2a",
   "metadata": {
    "execution": {
     "iopub.execute_input": "2022-02-20T16:15:04.857062Z",
     "iopub.status.busy": "2022-02-20T16:15:04.855826Z",
     "iopub.status.idle": "2022-02-20T16:15:05.137281Z",
     "shell.execute_reply": "2022-02-20T16:15:05.137823Z",
     "shell.execute_reply.started": "2022-02-20T16:06:51.854246Z"
    },
    "papermill": {
     "duration": 0.313693,
     "end_time": "2022-02-20T16:15:05.138038",
     "exception": false,
     "start_time": "2022-02-20T16:15:04.824345",
     "status": "completed"
    },
    "tags": []
   },
   "outputs": [
    {
     "data": {
      "image/png": "[encoded data removed]",
      "text/plain": [
       "<Figure size 432x288 with 2 Axes>"
      ]
     },
     "metadata": {
      "needs_background": "light"
     },
     "output_type": "display_data"
    }
   ],
   "source": [
    "sns.heatmap(df.corr(), annot=True)\n",
    "plt.show()"
   ]
  },
  {
   "cell_type": "markdown",
   "id": "84ae7c7c",
   "metadata": {
    "papermill": {
     "duration": 0.030455,
     "end_time": "2022-02-20T16:15:05.197446",
     "exception": false,
     "start_time": "2022-02-20T16:15:05.166991",
     "status": "completed"
    },
    "tags": []
   },
   "source": [
    "## Data Preprocessing"
   ]
  },
  {
   "cell_type": "code",
   "execution_count": 9,
   "id": "a3fe5b68",
   "metadata": {
    "execution": {
     "iopub.execute_input": "2022-02-20T16:15:05.259116Z",
     "iopub.status.busy": "2022-02-20T16:15:05.258129Z",
     "iopub.status.idle": "2022-02-20T16:15:05.264027Z",
     "shell.execute_reply": "2022-02-20T16:15:05.264526Z",
     "shell.execute_reply.started": "2022-02-20T16:07:00.232331Z"
    },
    "papermill": {
     "duration": 0.038951,
     "end_time": "2022-02-20T16:15:05.264757",
     "exception": false,
     "start_time": "2022-02-20T16:15:05.225806",
     "status": "completed"
    },
    "tags": []
   },
   "outputs": [],
   "source": [
    "df.drop([\"User ID\"], axis=1, inplace=True) #User ID işimize yaramadığı için çıkartacağız."
   ]
  },
  {
   "cell_type": "code",
   "execution_count": 10,
   "id": "7f23b335",
   "metadata": {
    "execution": {
     "iopub.execute_input": "2022-02-20T16:15:05.329379Z",
     "iopub.status.busy": "2022-02-20T16:15:05.327893Z",
     "iopub.status.idle": "2022-02-20T16:15:05.333841Z",
     "shell.execute_reply": "2022-02-20T16:15:05.334329Z",
     "shell.execute_reply.started": "2022-02-20T16:07:03.138309Z"
    },
    "papermill": {
     "duration": 0.039759,
     "end_time": "2022-02-20T16:15:05.334532",
     "exception": false,
     "start_time": "2022-02-20T16:15:05.294773",
     "status": "completed"
    },
    "tags": []
   },
   "outputs": [],
   "source": [
    "df['Gender'] = np.where(df['Gender'] == \"Female\", 0, 1) #Gender'ı sayısal veriye dönüştürüyoruz."
   ]
  },
  {
   "cell_type": "code",
   "execution_count": 11,
   "id": "e3a5233c",
   "metadata": {
    "execution": {
     "iopub.execute_input": "2022-02-20T16:15:05.396866Z",
     "iopub.status.busy": "2022-02-20T16:15:05.395848Z",
     "iopub.status.idle": "2022-02-20T16:15:05.403046Z",
     "shell.execute_reply": "2022-02-20T16:15:05.402412Z",
     "shell.execute_reply.started": "2022-02-20T16:07:03.970585Z"
    },
    "papermill": {
     "duration": 0.039295,
     "end_time": "2022-02-20T16:15:05.403217",
     "exception": false,
     "start_time": "2022-02-20T16:15:05.363922",
     "status": "completed"
    },
    "tags": []
   },
   "outputs": [],
   "source": [
    "# Verimizi bağımlı ve bağımsız değişkenlere ayırıyoruz.\n",
    "y = df[\"Purchased\"]\n",
    "X = df.drop('Purchased',axis = 1)"
   ]
  },
  {
   "cell_type": "code",
   "execution_count": 12,
   "id": "8f7e23ea",
   "metadata": {
    "execution": {
     "iopub.execute_input": "2022-02-20T16:15:05.468245Z",
     "iopub.status.busy": "2022-02-20T16:15:05.467351Z",
     "iopub.status.idle": "2022-02-20T16:15:05.621290Z",
     "shell.execute_reply": "2022-02-20T16:15:05.620490Z",
     "shell.execute_reply.started": "2022-02-20T16:14:15.892826Z"
    },
    "papermill": {
     "duration": 0.189718,
     "end_time": "2022-02-20T16:15:05.621526",
     "exception": false,
     "start_time": "2022-02-20T16:15:05.431808",
     "status": "completed"
    },
    "tags": []
   },
   "outputs": [
    {
     "data": {
      "text/html": [
       "<div>\n",
       "<style scoped>\n",
       "    .dataframe tbody tr th:only-of-type {\n",
       "        vertical-align: middle;\n",
       "    }\n",
       "\n",
       "    .dataframe tbody tr th {\n",
       "        vertical-align: top;\n",
       "    }\n",
       "\n",
       "    .dataframe thead th {\n",
       "        text-align: right;\n",
       "    }\n",
       "</style>\n",
       "<table border=\"1\" class=\"dataframe\">\n",
       "  <thead>\n",
       "    <tr style=\"text-align: right;\">\n",
       "      <th></th>\n",
       "      <th>0</th>\n",
       "      <th>1</th>\n",
       "      <th>2</th>\n",
       "    </tr>\n",
       "  </thead>\n",
       "  <tbody>\n",
       "    <tr>\n",
       "      <th>0</th>\n",
       "      <td>1.020204</td>\n",
       "      <td>-1.781797</td>\n",
       "      <td>-1.490046</td>\n",
       "    </tr>\n",
       "    <tr>\n",
       "      <th>1</th>\n",
       "      <td>1.020204</td>\n",
       "      <td>-0.253587</td>\n",
       "      <td>-1.460681</td>\n",
       "    </tr>\n",
       "    <tr>\n",
       "      <th>2</th>\n",
       "      <td>-0.980196</td>\n",
       "      <td>-1.113206</td>\n",
       "      <td>-0.785290</td>\n",
       "    </tr>\n",
       "    <tr>\n",
       "      <th>3</th>\n",
       "      <td>-0.980196</td>\n",
       "      <td>-1.017692</td>\n",
       "      <td>-0.374182</td>\n",
       "    </tr>\n",
       "    <tr>\n",
       "      <th>4</th>\n",
       "      <td>1.020204</td>\n",
       "      <td>-1.781797</td>\n",
       "      <td>0.183751</td>\n",
       "    </tr>\n",
       "  </tbody>\n",
       "</table>\n",
       "</div>"
      ],
      "text/plain": [
       "          0         1         2\n",
       "0  1.020204 -1.781797 -1.490046\n",
       "1  1.020204 -0.253587 -1.460681\n",
       "2 -0.980196 -1.113206 -0.785290\n",
       "3 -0.980196 -1.017692 -0.374182\n",
       "4  1.020204 -1.781797  0.183751"
      ]
     },
     "execution_count": 12,
     "metadata": {},
     "output_type": "execute_result"
    }
   ],
   "source": [
    "# Burada, modelimizin başarısını arttırmak için dönüşüm uyguluyoruz. StandarScaler, değişkenin kendi içindeki varyans yapısını,\n",
    "# bilgi yapısını korur. Ancak belirli bir standarta oturtur.Değişken değerleri değişecektir ancak dağılım bilgisinin özünü koruyacaktır.\n",
    "from sklearn.preprocessing import StandardScaler\n",
    "\n",
    "scaler = StandardScaler()\n",
    "scaled_data = scaler.fit_transform(X)\n",
    "data_scaled = pd.DataFrame(scaled_data)\n",
    "data_scaled.head()"
   ]
  },
  {
   "cell_type": "markdown",
   "id": "d015975a",
   "metadata": {
    "papermill": {
     "duration": 0.029164,
     "end_time": "2022-02-20T16:15:05.679681",
     "exception": false,
     "start_time": "2022-02-20T16:15:05.650517",
     "status": "completed"
    },
    "tags": []
   },
   "source": [
    "## Train-Test Split"
   ]
  },
  {
   "cell_type": "code",
   "execution_count": 13,
   "id": "541aeb6c",
   "metadata": {
    "execution": {
     "iopub.execute_input": "2022-02-20T16:15:05.744205Z",
     "iopub.status.busy": "2022-02-20T16:15:05.743405Z",
     "iopub.status.idle": "2022-02-20T16:15:05.949909Z",
     "shell.execute_reply": "2022-02-20T16:15:05.948229Z",
     "shell.execute_reply.started": "2022-02-20T16:14:22.958553Z"
    },
    "papermill": {
     "duration": 0.241303,
     "end_time": "2022-02-20T16:15:05.950104",
     "exception": false,
     "start_time": "2022-02-20T16:15:05.708801",
     "status": "completed"
    },
    "tags": []
   },
   "outputs": [],
   "source": [
    "from sklearn.model_selection import train_test_split\n",
    "\n",
    "X_train,X_test,y_train,y_test = train_test_split(scaled_data,y,test_size=0.20,random_state=42)"
   ]
  },
  {
   "cell_type": "markdown",
   "id": "a941df1c",
   "metadata": {
    "papermill": {
     "duration": 0.030745,
     "end_time": "2022-02-20T16:15:06.010279",
     "exception": false,
     "start_time": "2022-02-20T16:15:05.979534",
     "status": "completed"
    },
    "tags": []
   },
   "source": [
    "## Logistic Regression"
   ]
  },
  {
   "cell_type": "code",
   "execution_count": 14,
   "id": "b45839fa",
   "metadata": {
    "execution": {
     "iopub.execute_input": "2022-02-20T16:15:06.074748Z",
     "iopub.status.busy": "2022-02-20T16:15:06.074028Z",
     "iopub.status.idle": "2022-02-20T16:15:06.173093Z",
     "shell.execute_reply": "2022-02-20T16:15:06.173658Z",
     "shell.execute_reply.started": "2022-02-20T16:14:25.906259Z"
    },
    "papermill": {
     "duration": 0.13458,
     "end_time": "2022-02-20T16:15:06.173882",
     "exception": false,
     "start_time": "2022-02-20T16:15:06.039302",
     "status": "completed"
    },
    "tags": []
   },
   "outputs": [],
   "source": [
    "from sklearn.linear_model import LogisticRegression\n",
    "\n",
    "log_model = LogisticRegression().fit(X_train,y_train)\n",
    "\n",
    "y_pred = log_model.predict(X_test)"
   ]
  },
  {
   "cell_type": "markdown",
   "id": "571988c4",
   "metadata": {
    "papermill": {
     "duration": 0.027861,
     "end_time": "2022-02-20T16:15:06.230478",
     "exception": false,
     "start_time": "2022-02-20T16:15:06.202617",
     "status": "completed"
    },
    "tags": []
   },
   "source": [
    "## Model Evaluation"
   ]
  },
  {
   "cell_type": "code",
   "execution_count": 15,
   "id": "0b522ff5",
   "metadata": {
    "execution": {
     "iopub.execute_input": "2022-02-20T16:15:06.294375Z",
     "iopub.status.busy": "2022-02-20T16:15:06.293412Z",
     "iopub.status.idle": "2022-02-20T16:15:06.300193Z",
     "shell.execute_reply": "2022-02-20T16:15:06.299379Z",
     "shell.execute_reply.started": "2022-02-20T16:14:28.030708Z"
    },
    "papermill": {
     "duration": 0.04184,
     "end_time": "2022-02-20T16:15:06.300441",
     "exception": false,
     "start_time": "2022-02-20T16:15:06.258601",
     "status": "completed"
    },
    "tags": []
   },
   "outputs": [
    {
     "name": "stdout",
     "output_type": "stream",
     "text": [
      "Test accuracy: 0.8875\n",
      "Train accuracy: 0.815625\n"
     ]
    }
   ],
   "source": [
    "print(f'Test accuracy: {log_model.score(X_test,y_test)}')\n",
    "print(f'Train accuracy: {log_model.score(X_train,y_train)}')"
   ]
  },
  {
   "cell_type": "code",
   "execution_count": 16,
   "id": "66b78756",
   "metadata": {
    "execution": {
     "iopub.execute_input": "2022-02-20T16:15:06.369415Z",
     "iopub.status.busy": "2022-02-20T16:15:06.368671Z",
     "iopub.status.idle": "2022-02-20T16:15:06.371402Z",
     "shell.execute_reply": "2022-02-20T16:15:06.371909Z",
     "shell.execute_reply.started": "2022-02-20T16:14:30.218833Z"
    },
    "papermill": {
     "duration": 0.041503,
     "end_time": "2022-02-20T16:15:06.372121",
     "exception": false,
     "start_time": "2022-02-20T16:15:06.330618",
     "status": "completed"
    },
    "tags": []
   },
   "outputs": [
    {
     "name": "stdout",
     "output_type": "stream",
     "text": [
      "              precision    recall  f1-score   support\n",
      "\n",
      "           0       0.88      0.96      0.92        52\n",
      "           1       0.91      0.75      0.82        28\n",
      "\n",
      "    accuracy                           0.89        80\n",
      "   macro avg       0.90      0.86      0.87        80\n",
      "weighted avg       0.89      0.89      0.88        80\n",
      "\n"
     ]
    }
   ],
   "source": [
    "from sklearn.metrics import classification_report\n",
    "\n",
    "print(classification_report(y_test, y_pred))"
   ]
  },
  {
   "cell_type": "code",
   "execution_count": 17,
   "id": "d9936be1",
   "metadata": {
    "execution": {
     "iopub.execute_input": "2022-02-20T16:15:06.460619Z",
     "iopub.status.busy": "2022-02-20T16:15:06.440594Z",
     "iopub.status.idle": "2022-02-20T16:15:06.680443Z",
     "shell.execute_reply": "2022-02-20T16:15:06.679447Z",
     "shell.execute_reply.started": "2022-02-20T16:14:31.978732Z"
    },
    "papermill": {
     "duration": 0.278248,
     "end_time": "2022-02-20T16:15:06.680603",
     "exception": false,
     "start_time": "2022-02-20T16:15:06.402355",
     "status": "completed"
    },
    "tags": []
   },
   "outputs": [
    {
     "data": {
      "text/plain": [
       "<sklearn.metrics._plot.confusion_matrix.ConfusionMatrixDisplay at 0x2c0ee9ba6a0>"
      ]
     },
     "execution_count": 17,
     "metadata": {},
     "output_type": "execute_result"
    },
    {
     "data": {
      "image/png": "[encoded data removed]",
      "text/plain": [
       "<Figure size 432x288 with 2 Axes>"
      ]
     },
     "metadata": {
      "needs_background": "light"
     },
     "output_type": "display_data"
    }
   ],
   "source": [
    "from sklearn.metrics import plot_confusion_matrix\n",
    "\n",
    "plot_confusion_matrix(log_model, X_test, y_test)"
   ]
  },
  {
   "cell_type": "code",
   "execution_count": null,
   "id": "91c88a1a",
   "metadata": {
    "papermill": {
     "duration": 0.030373,
     "end_time": "2022-02-20T16:15:06.741604",
     "exception": false,
     "start_time": "2022-02-20T16:15:06.711231",
     "status": "completed"
    },
    "tags": []
   },
   "outputs": [],
   "source": []
  }
 ],
 "metadata": {
  "kernelspec": {
   "display_name": "Python 3 (ipykernel)",
   "language": "python",
   "name": "python3"
  },
  "language_info": {
   "codemirror_mode": {
    "name": "ipython",
    "version": 3
   },
   "file_extension": ".py",
   "mimetype": "text/x-python",
   "name": "python",
   "nbconvert_exporter": "python",
   "pygments_lexer": "ipython3",
   "version": "3.9.7"
  },
  "papermill": {
   "default_parameters": {},
   "duration": 16.963059,
   "end_time": "2022-02-20T16:15:07.783834",
   "environment_variables": {},
   "exception": null,
   "input_path": "__notebook__.ipynb",
   "output_path": "__notebook__.ipynb",
   "parameters": {},
   "start_time": "2022-02-20T16:14:50.820775",
   "version": "2.3.3"
  }
 },
 "nbformat": 4,
 "nbformat_minor": 5
}
